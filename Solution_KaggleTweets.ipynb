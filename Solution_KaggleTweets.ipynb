{
  "nbformat": 4,
  "nbformat_minor": 0,
  "metadata": {
    "accelerator": "GPU",
    "colab": {
      "name": "Solution_KaggleTweets.ipynb",
      "provenance": [],
      "mount_file_id": "1T5bb0-RW7ZwceGKAY8Jo7IsNHx8rI4Vt",
      "authorship_tag": "ABX9TyMvphpi5V2/BwIUf3vkIrbA",
      "include_colab_link": true
    },
    "kernelspec": {
      "display_name": "Python 3",
      "name": "python3"
    },
    "language_info": {
      "name": "python"
    }
  },
  "cells": [
    {
      "cell_type": "markdown",
      "metadata": {
        "id": "view-in-github",
        "colab_type": "text"
      },
      "source": [
        "<a href=\"https://colab.research.google.com/github/idontcalculate/kaggletweets/blob/main/Solution_KaggleTweets.ipynb\" target=\"_parent\"><img src=\"https://colab.research.google.com/assets/colab-badge.svg\" alt=\"Open In Colab\"/></a>"
      ]
    },
    {
      "cell_type": "code",
      "metadata": {
        "id": "t3s7ojb2scfC"
      },
      "source": [
        "import numpy as np\n",
        "import pandas as pd\n",
        "import tensorflow as tf"
      ],
      "execution_count": null,
      "outputs": []
    },
    {
      "cell_type": "code",
      "metadata": {
        "colab": {
          "base_uri": "https://localhost:8080/"
        },
        "id": "7I5-xfnBwJhZ",
        "outputId": "42ed8988-7faf-4b97-b01b-006685088389"
      },
      "source": [
        "!unzip /content/drive/MyDrive/datasets/jigsaw-toxic-comment-classification-challenge.zip"
      ],
      "execution_count": null,
      "outputs": [
        {
          "output_type": "stream",
          "text": [
            "Archive:  /content/drive/MyDrive/datasets/jigsaw-toxic-comment-classification-challenge.zip\n",
            "  inflating: sample_submission.csv.zip  \n",
            "  inflating: test.csv.zip            \n",
            "  inflating: test_labels.csv.zip     \n",
            "  inflating: train.csv.zip           \n"
          ],
          "name": "stdout"
        }
      ]
    },
    {
      "cell_type": "code",
      "metadata": {
        "colab": {
          "base_uri": "https://localhost:8080/"
        },
        "id": "cT4qAHKJyXYJ",
        "outputId": "ddfd33e6-f116-4097-e454-00d5f0675fe4"
      },
      "source": [
        "!wget https://raw.githubusercontent.com/mrdbourke/tensorflow-deep-learning/main/extras/helper_functions.py"
      ],
      "execution_count": null,
      "outputs": [
        {
          "output_type": "stream",
          "text": [
            "--2021-06-10 11:58:16--  https://raw.githubusercontent.com/mrdbourke/tensorflow-deep-learning/main/extras/helper_functions.py\n",
            "Resolving raw.githubusercontent.com (raw.githubusercontent.com)... 185.199.108.133, 185.199.109.133, 185.199.110.133, ...\n",
            "Connecting to raw.githubusercontent.com (raw.githubusercontent.com)|185.199.108.133|:443... connected.\n",
            "HTTP request sent, awaiting response... 200 OK\n",
            "Length: 10246 (10K) [text/plain]\n",
            "Saving to: ‘helper_functions.py’\n",
            "\n",
            "helper_functions.py 100%[===================>]  10.01K  --.-KB/s    in 0s      \n",
            "\n",
            "2021-06-10 11:58:16 (98.5 MB/s) - ‘helper_functions.py’ saved [10246/10246]\n",
            "\n"
          ],
          "name": "stdout"
        }
      ]
    },
    {
      "cell_type": "code",
      "metadata": {
        "id": "y_xxoIXCykPL"
      },
      "source": [
        "from helper_functions import unzip_data, create_tensorboard_callback, plot_loss_curves, compare_historys"
      ],
      "execution_count": null,
      "outputs": []
    },
    {
      "cell_type": "code",
      "metadata": {
        "colab": {
          "base_uri": "https://localhost:8080/"
        },
        "id": "shH3DHFvzLRw",
        "outputId": "114818aa-8057-4d59-aad7-7d960b3ef445"
      },
      "source": [
        "!unzip /content/test_labels.csv.zip\n",
        "\n",
        "!unzip /content/train.csv.zip\n",
        "\n",
        "!unzip /content/test.csv.zip\n",
        "\n",
        "import pandas as pd \n",
        "train_df = pd.read_csv('/content/train.csv.zip')\n",
        "test_df  = pd.read_csv('/content/test.csv.zip')\n",
        "\n",
        "test_labels = pd.read_csv('/content/test_labels.csv.zip')\n",
        "\n",
        "len(train_df), len(test_df)\n",
        "\n",
        "# How many samples total?\n",
        "print(f\"Total training samples: {len(train_df)}\")\n",
        "print(f\"Total test samples: {len(test_df)}\")\n",
        "print(f\"Total samples: {len(train_df) + len(test_df)}\")\n",
        "\n",
        "def create_text_label(dataframe):\n",
        "  texts = dataframe.comment_text.to_numpy()\n",
        "  labels = dataframe.drop(columns =['id','comment_text']).to_numpy()\n",
        "  return texts,labels\n",
        "\n",
        "x_train,y_train = create_text_label(train_df)\n",
        "\n",
        "x_test,y_test = create_text_label(test_df)\n",
        "\n",
        "y_test = test_labels.drop('id',axis = 1).to_numpy()\n",
        "\n",
        "x_train[:10],y_train[:10]\n",
        "\n",
        "x_test[:10],y_test[:10]\n",
        "\n",
        "# y_train.head()\n",
        "\n",
        "len(x_train)\n",
        "\n",
        "# len(train_data_text[0])\n",
        "\n",
        "import tensorflow as tf\n",
        "from tensorflow.keras.layers.experimental.preprocessing import TextVectorization\n",
        "\n",
        "# Use the default TextVectorization\n",
        "text_vectorizer = TextVectorization(max_tokens=None, # how many words in the vocabulary (all of the different words in your text)\n",
        "                                    standardize=\"lower_and_strip_punctuation\", # how to process text\n",
        "                                    split=\"whitespace\", # how to split tokens\n",
        "                                    ngrams=None, # create groups of n-words?\n",
        "                                    output_mode=\"int\", # how to map tokens to numbers\n",
        "                                    output_sequence_length=None, # how long should the output sequence of tokens be?\n",
        "                                    pad_to_max_tokens=True)\n",
        "\n",
        "\"\"\"For max_tokens (the number of words in the vocabulary), multiples of 10,000 (10,000, 20,000, 30,000) or the exact number of unique words in your text (e.g. 32,179) are common values.\n",
        "\n",
        "For our use case, we'll use 10,000.\n",
        "\n",
        "And for the output_sequence_length we'll use the average number of tokens per Tweet in the training set. But first, we'll need to find it.\n",
        "\"\"\"\n",
        "\n",
        "# Setup text vectorization variables\n",
        "max_vocab_length = 10000 # max number of words to have in our vocabulary\n",
        "max_length = 15 # max length our sequences will be (e.g. how many words from a Tweet does our model see?)\n",
        "\n",
        "text_vectorizer = TextVectorization(max_tokens=max_vocab_length,\n",
        "                                    output_mode=\"int\",\n",
        "                                    output_sequence_length=max_length)\n",
        "\n",
        "\"\"\"putting dataframe into data_sentences, and then making and array, before vectorizing. \"\"\"\n",
        "\n",
        "text_vectorizer.adapt(x_train)\n",
        "# x_test = text_vectorizer.adapt(np.array(x_test))\n",
        "\n",
        "\"\"\"text_vectorizer.adapt(y_train)\"\"\"\n",
        "\n",
        "text_vectorizer(x_train[:1])\n",
        "\n",
        "sample_scentence = 'this is the sample scentence'\n",
        "text_vectorizer([sample_scentence])\n",
        "\n",
        "text_vocab = text_vectorizer.get_vocabulary()\n",
        "\n",
        "text_vectorizer(x_test)\n",
        "\n",
        "# Get the unique words in the vocabulary\n",
        "words_in_vocab = text_vectorizer.get_vocabulary()\n",
        "top_5_words = words_in_vocab[:5] # most common tokens (notice the [UNK] token for \"unknown\" words)\n",
        "bottom_5_words = words_in_vocab[-5:] # least common tokens\n",
        "print(f\"Number of words in vocab: {len(words_in_vocab)}\")\n",
        "print(f\"Top 5 most common words: {top_5_words}\") \n",
        "print(f\"Bottom 5 least common words: {bottom_5_words}\")\n",
        "\n",
        "\"\"\"activating embedding layer\"\"\"\n",
        "\n",
        "from tensorflow.keras import layers\n",
        "\n",
        "embedding = layers.Embedding(input_dim=max_vocab_length, # set input shape\n",
        "                             output_dim=128, # set size of embedding vector\n",
        "                             embeddings_initializer=\"uniform\", # default, intialize randomly\n",
        "                             input_length=max_length) # how long is each input\n",
        "\n",
        "embedding\n",
        "\n",
        "# Get a random sentence from training set\n",
        "import random\n",
        "random_sentence = random.choice(x_train)\n",
        "print(f\"Original text:\\n{random_sentence}\\\n",
        "      \\n\\nEmbedded version:\")\n",
        "\n",
        "# Embed the random sentence (turn it into numerical representation)\n",
        "sample_embed = embedding(text_vectorizer([random_sentence]))\n",
        "sample_embed\n",
        "\n",
        "#single token's embedding\n",
        "sample_embed[0][0]\n",
        "\n",
        "\"\"\"creating the basseline model\"\"\"\n",
        "\n",
        "x_train.shape, y_train.shape\n",
        "\n",
        "#SAVE DIR AND CALLBACKS\n",
        "\n",
        "from helper_functions import create_tensorboard_callback\n",
        "\n",
        "#create dir to save tensorboard logs\n",
        "SAVE_DIR = \"model_logs\"\n",
        "\n",
        "#print(type(SAVE_DIR))\n",
        "\n",
        "# Create LSTM model\n",
        "from tensorflow.keras import layers\n",
        "inputs = layers.Input(shape=(1,), dtype=\"string\")\n",
        "x = text_vectorizer(inputs)\n",
        "x = embedding(x)\n",
        "print(x.shape)\n",
        "# x = layers.LSTM(64, return_sequences=True)(x) # return vector for each word in the Tweet (you can stack RNN cells as long as return_sequences=True)\n",
        "x = layers.LSTM(64)(x) # return vector for whole sequence\n",
        "print(x.shape)\n",
        "# x = layers.Dense(64, activation=\"relu\")(x) # optional dense layer on top of output of LSTM cell\n",
        "outputs = layers.Dense(6, activation=\"softmax\")(x)\n",
        "model_1 = tf.keras.Model(inputs, outputs, name=\"LTSM_kaggle\")\n",
        "\n",
        "# Compile model\n",
        "model_1.compile(loss=\"categorical_crossentropy\",\n",
        "                optimizer=tf.keras.optimizers.Adam(),\n",
        "                metrics=[\"accuracy\"])\n",
        "\n",
        "# F model\n",
        "model_1_history = model_1.fit(x_train,\n",
        "                              y_train,\n",
        "                              epochs=5,\n",
        "                              validation_data=(x_test, y_test),\n",
        "                              callbacks=[create_tensorboard_callback(SAVE_DIR,  \"LSTM_kaggle\")])\n",
        "                              \n",
        "                              \n"
      ],
      "execution_count": null,
      "outputs": [
        {
          "output_type": "stream",
          "text": [
            "Archive:  /content/test_labels.csv.zip\n",
            "replace test_labels.csv? [y]es, [n]o, [A]ll, [N]one, [r]ename: n\n",
            "Archive:  /content/train.csv.zip\n",
            "replace train.csv? [y]es, [n]o, [A]ll, [N]one, [r]ename: nn\n",
            "Archive:  /content/test.csv.zip\n",
            "replace test.csv? [y]es, [n]o, [A]ll, [N]one, [r]ename: n\n",
            "Total training samples: 159571\n",
            "Total test samples: 153164\n",
            "Total samples: 312735\n",
            "Number of words in vocab: 10000\n",
            "Top 5 most common words: ['', '[UNK]', 'the', 'to', 'of']\n",
            "Bottom 5 least common words: ['domination', 'divorced', 'distorting', 'direktor', 'dildo']\n",
            "Original text:\n",
            "shut up man! \n",
            "\n",
            "SHUT UP I DID NOT DO ANYTHING Click Here for what I Wrote To You A Few Months Ago.      \n",
            "\n",
            "Embedded version:\n",
            "(None, 15, 128)\n",
            "(None, 64)\n",
            "Saving TensorBoard log files to: model_logs/LSTM_kaggle/20210610-120635\n",
            "Epoch 1/5\n",
            "4987/4987 [==============================] - 140s 27ms/step - loss: 0.3571 - accuracy: 0.0203 - val_loss: -6.8089 - val_accuracy: 0.1393\n",
            "Epoch 2/5\n",
            "4987/4987 [==============================] - 113s 23ms/step - loss: 0.3366 - accuracy: 0.0562 - val_loss: -6.8957 - val_accuracy: 0.1584\n",
            "Epoch 3/5\n",
            "4987/4987 [==============================] - 112s 22ms/step - loss: 0.3337 - accuracy: 0.0624 - val_loss: -6.9302 - val_accuracy: 0.1449\n",
            "Epoch 4/5\n",
            "4987/4987 [==============================] - 112s 22ms/step - loss: 0.3350 - accuracy: 0.0619 - val_loss: -7.1676 - val_accuracy: 0.1888\n",
            "Epoch 5/5\n",
            "4987/4987 [==============================] - 110s 22ms/step - loss: 0.3444 - accuracy: 0.0660 - val_loss: -7.2704 - val_accuracy: 0.1589\n"
          ],
          "name": "stdout"
        }
      ]
    },
    {
      "cell_type": "code",
      "metadata": {
        "colab": {
          "base_uri": "https://localhost:8080/"
        },
        "id": "eRfIBtDlsEnr",
        "outputId": "a80cd94e-ac69-4626-a547-3492f5aa303c"
      },
      "source": [
        "!pip install tensorboard"
      ],
      "execution_count": null,
      "outputs": [
        {
          "output_type": "stream",
          "text": [
            "Requirement already satisfied: tensorboard in /usr/local/lib/python3.7/dist-packages (2.5.0)\n",
            "Requirement already satisfied: grpcio>=1.24.3 in /usr/local/lib/python3.7/dist-packages (from tensorboard) (1.34.1)\n",
            "Requirement already satisfied: tensorboard-plugin-wit>=1.6.0 in /usr/local/lib/python3.7/dist-packages (from tensorboard) (1.8.0)\n",
            "Requirement already satisfied: tensorboard-data-server<0.7.0,>=0.6.0 in /usr/local/lib/python3.7/dist-packages (from tensorboard) (0.6.1)\n",
            "Requirement already satisfied: google-auth<2,>=1.6.3 in /usr/local/lib/python3.7/dist-packages (from tensorboard) (1.30.0)\n",
            "Requirement already satisfied: setuptools>=41.0.0 in /usr/local/lib/python3.7/dist-packages (from tensorboard) (57.0.0)\n",
            "Requirement already satisfied: markdown>=2.6.8 in /usr/local/lib/python3.7/dist-packages (from tensorboard) (3.3.4)\n",
            "Requirement already satisfied: numpy>=1.12.0 in /usr/local/lib/python3.7/dist-packages (from tensorboard) (1.19.5)\n",
            "Requirement already satisfied: protobuf>=3.6.0 in /usr/local/lib/python3.7/dist-packages (from tensorboard) (3.12.4)\n",
            "Requirement already satisfied: wheel>=0.26; python_version >= \"3\" in /usr/local/lib/python3.7/dist-packages (from tensorboard) (0.36.2)\n",
            "Requirement already satisfied: requests<3,>=2.21.0 in /usr/local/lib/python3.7/dist-packages (from tensorboard) (2.23.0)\n",
            "Requirement already satisfied: werkzeug>=0.11.15 in /usr/local/lib/python3.7/dist-packages (from tensorboard) (1.0.1)\n",
            "Requirement already satisfied: google-auth-oauthlib<0.5,>=0.4.1 in /usr/local/lib/python3.7/dist-packages (from tensorboard) (0.4.4)\n",
            "Requirement already satisfied: absl-py>=0.4 in /usr/local/lib/python3.7/dist-packages (from tensorboard) (0.12.0)\n",
            "Requirement already satisfied: six>=1.5.2 in /usr/local/lib/python3.7/dist-packages (from grpcio>=1.24.3->tensorboard) (1.15.0)\n",
            "Requirement already satisfied: cachetools<5.0,>=2.0.0 in /usr/local/lib/python3.7/dist-packages (from google-auth<2,>=1.6.3->tensorboard) (4.2.2)\n",
            "Requirement already satisfied: rsa<5,>=3.1.4; python_version >= \"3.6\" in /usr/local/lib/python3.7/dist-packages (from google-auth<2,>=1.6.3->tensorboard) (4.7.2)\n",
            "Requirement already satisfied: pyasn1-modules>=0.2.1 in /usr/local/lib/python3.7/dist-packages (from google-auth<2,>=1.6.3->tensorboard) (0.2.8)\n",
            "Requirement already satisfied: importlib-metadata; python_version < \"3.8\" in /usr/local/lib/python3.7/dist-packages (from markdown>=2.6.8->tensorboard) (4.0.1)\n",
            "Requirement already satisfied: urllib3!=1.25.0,!=1.25.1,<1.26,>=1.21.1 in /usr/local/lib/python3.7/dist-packages (from requests<3,>=2.21.0->tensorboard) (1.24.3)\n",
            "Requirement already satisfied: chardet<4,>=3.0.2 in /usr/local/lib/python3.7/dist-packages (from requests<3,>=2.21.0->tensorboard) (3.0.4)\n",
            "Requirement already satisfied: certifi>=2017.4.17 in /usr/local/lib/python3.7/dist-packages (from requests<3,>=2.21.0->tensorboard) (2020.12.5)\n",
            "Requirement already satisfied: idna<3,>=2.5 in /usr/local/lib/python3.7/dist-packages (from requests<3,>=2.21.0->tensorboard) (2.10)\n",
            "Requirement already satisfied: requests-oauthlib>=0.7.0 in /usr/local/lib/python3.7/dist-packages (from google-auth-oauthlib<0.5,>=0.4.1->tensorboard) (1.3.0)\n",
            "Requirement already satisfied: pyasn1>=0.1.3 in /usr/local/lib/python3.7/dist-packages (from rsa<5,>=3.1.4; python_version >= \"3.6\"->google-auth<2,>=1.6.3->tensorboard) (0.4.8)\n",
            "Requirement already satisfied: typing-extensions>=3.6.4; python_version < \"3.8\" in /usr/local/lib/python3.7/dist-packages (from importlib-metadata; python_version < \"3.8\"->markdown>=2.6.8->tensorboard) (3.7.4.3)\n",
            "Requirement already satisfied: zipp>=0.5 in /usr/local/lib/python3.7/dist-packages (from importlib-metadata; python_version < \"3.8\"->markdown>=2.6.8->tensorboard) (3.4.1)\n",
            "Requirement already satisfied: oauthlib>=3.0.0 in /usr/local/lib/python3.7/dist-packages (from requests-oauthlib>=0.7.0->google-auth-oauthlib<0.5,>=0.4.1->tensorboard) (3.1.0)\n"
          ],
          "name": "stdout"
        }
      ]
    },
    {
      "cell_type": "code",
      "metadata": {
        "colab": {
          "base_uri": "https://localhost:8080/"
        },
        "id": "QdzvO23U07vX",
        "outputId": "aeebc2b9-a2ec-4b6f-f6a3-2dae37291cc3"
      },
      "source": [
        "!tensorboard dev upload --logdir ./model_logs/LTSM_kaggle --one_shot\n"
      ],
      "execution_count": null,
      "outputs": [
        {
          "output_type": "stream",
          "text": [
            "2021-06-10 12:16:53.722952: I tensorflow/stream_executor/platform/default/dso_loader.cc:53] Successfully opened dynamic library libcudart.so.11.0\n",
            "\n",
            "***** TensorBoard Uploader *****\n",
            "\n",
            "This will upload your TensorBoard logs to https://tensorboard.dev/ from\n",
            "the following directory:\n",
            "\n",
            "./model_logs/LTSM_kaggle\n",
            "\n",
            "This TensorBoard will be visible to everyone. Do not upload sensitive\n",
            "data.\n",
            "\n",
            "Your use of this service is subject to Google's Terms of Service\n",
            "<https://policies.google.com/terms> and Privacy Policy\n",
            "<https://policies.google.com/privacy>, and TensorBoard.dev's Terms of Service\n",
            "<https://tensorboard.dev/policy/terms/>.\n",
            "\n",
            "This notice will not be shown again while you are logged into the uploader.\n",
            "To log out, run `tensorboard dev auth revoke`.\n",
            "\n",
            "Continue? (yes/NO) yes\n",
            "\n",
            "Please visit this URL to authorize this application: https://accounts.google.com/o/oauth2/auth?response_type=code&client_id=373649185512-8v619h5kft38l4456nm2dj4ubeqsrvh6.apps.googleusercontent.com&redirect_uri=urn%3Aietf%3Awg%3Aoauth%3A2.0%3Aoob&scope=openid+https%3A%2F%2Fwww.googleapis.com%2Fauth%2Fuserinfo.email&state=tMWrP5rvgu5X76f45sYS9ZeLB2nFI0&prompt=consent&access_type=offline\n",
            "Enter the authorization code: 4/1AY0e-g4_etXC1lsI05uEzdm3uswoYQ6Xw-D0huNQCMFANDacGc5Via9ZJXM\n",
            "\n",
            "Data for the \"text\" plugin is now uploaded to TensorBoard.dev! Note that uploaded data is public. If you do not want to upload data for this plugin, use the \"--plugins\" command line argument.\n",
            "./model_logs/LTSM_kaggle: No such directory.\n",
            "User specified `one_shot` mode with an unavailable logdir. Exiting without creating an experiment.\n"
          ],
          "name": "stdout"
        }
      ]
    },
    {
      "cell_type": "code",
      "metadata": {
        "colab": {
          "base_uri": "https://localhost:8080/",
          "height": 35
        },
        "id": "jgpcCP0N03y7",
        "outputId": "ca5326f4-1677-4e23-f3e8-49bbe3c92414"
      },
      "source": [
        "\n",
        "SAVE_DIR\n"
      ],
      "execution_count": null,
      "outputs": [
        {
          "output_type": "execute_result",
          "data": {
            "application/vnd.google.colaboratory.intrinsic+json": {
              "type": "string"
            },
            "text/plain": [
              "'model_logs'"
            ]
          },
          "metadata": {
            "tags": []
          },
          "execution_count": 24
        }
      ]
    },
    {
      "cell_type": "code",
      "metadata": {
        "colab": {
          "base_uri": "https://localhost:8080/",
          "height": 443
        },
        "id": "yRj9X2VG0_KD",
        "outputId": "03b79440-ffd6-41f5-a73d-dba4569dc63e"
      },
      "source": [
        "\n",
        "import tensorflow as tf\n",
        "from tensorflow.keras.layers.experimental.preprocessing import TextVectorization\n",
        "\n",
        "# Use the default TextVectorization\n",
        "text_vectorizer = TextVectorization(max_tokens=None, # how many words in the vocabulary (all of the different words in your text)\n",
        "                                    standardize=\"lower_and_strip_punctuation\", # how to process text\n",
        "                                    split=\"whitespace\", # how to split tokens\n",
        "                                    ngrams=None, # create groups of n-words?\n",
        "                                    output_mode=\"int\", # how to map tokens to numbers\n",
        "                                    output_sequence_length=None, # how long should the output sequence of tokens be?\n",
        "                                    pad_to_max_tokens=True)\n",
        "\n",
        "# Setup text vectorization variables\n",
        "max_vocab_length = 10000 # max number of words to have in our vocabulary\n",
        "max_length = 15 # max length our sequences will be (e.g. how many words from a Tweet does our model see?)\n",
        "\n",
        "text_vectorizer = TextVectorization(max_tokens=max_vocab_length,\n",
        "                                    output_mode=\"int\",\n",
        "                                    output_sequence_length=max_length,\n",
        "                                    ngrams=2)\n",
        "\n",
        "#crate model 2 for kaggle\n",
        "\n",
        "# Create another LTSM \n",
        "from tensorflow.keras import layers\n",
        "inputs = layers.Input(shape=(1,), dtype=\"string\")\n",
        "x = text_vectorizer(inputs)\n",
        "x = embedding(x)\n",
        "print(x.shape)\n",
        "# x = layers.LSTM(64, return_sequences=True)(x) # return vector for each word in the Tweet (you can stack RNN cells as long as return_sequences=True)\n",
        "x = layers.LSTM(64)(x) # return vector for whole sequence\n",
        "print(x.shape)\n",
        "# x = layers.Dense(64, activation=\"relu\")(x) # optional dense layer on top of output of LSTM cell\n",
        "outputs = layers.Dense(6, activation=\"softmax\")(x)\n",
        "model_2 = tf.keras.Model(inputs, outputs, name=\"LTSM_kaggle_2\")\n",
        "\n",
        "# Compile model\n",
        "model_2.compile(loss=\"categorical_crossentropy\",\n",
        "                optimizer=tf.keras.optimizers.Adam(),\n",
        "                metrics=[\"accuracy\"])\n",
        "\n",
        "#fit the model\n",
        "model_2_history = model_2.fit(x_train,\n",
        "                              y_train,\n",
        "                              epochs=10,\n",
        "                              validation_data=(x_test, y_test),\n",
        "                              callbacks = [create_tensorboard_callback(SAVE_DIR,\n",
        "                                                                       \"LTSM_kaggle_2\")])\n",
        "\n",
        "#check the results\n",
        "model_2.evaluate(x_test, y_test)\n",
        "\n",
        "#predictions\n",
        "model_2_pred_probs = model_2.predict(x_test)\n",
        "model_2_pred_probs.shape\n",
        "\n",
        "model_2_pred_probs[:10]\n",
        "\n",
        "# Turn prediction probabilities into single-dimension tensor of floats\n",
        "model_2_preds = tf.squeeze(tf.round(model_2_pred_probs)) # squeeze removes single dimensions\n",
        "model_2_preds[:50]\n",
        "\n",
        "\"\"\"results should be in panda dataframe in order to submit. \"\"\"\n",
        "\n"
      ],
      "execution_count": null,
      "outputs": [
        {
          "output_type": "stream",
          "text": [
            "(None, 15, 128)\n",
            "(None, 64)\n",
            "Saving TensorBoard log files to: model_logs/LTSM_kaggle_2/20210610-121819\n",
            "Epoch 1/10\n",
            "4987/4987 [==============================] - 118s 23ms/step - loss: 0.3713 - accuracy: 0.8088 - val_loss: -6.3074 - val_accuracy: 0.9990\n",
            "Epoch 2/10\n",
            "4987/4987 [==============================] - 114s 23ms/step - loss: 0.3562 - accuracy: 0.9942 - val_loss: -6.3482 - val_accuracy: 0.9990\n",
            "Epoch 3/10\n",
            "4987/4987 [==============================] - 134s 27ms/step - loss: 0.3469 - accuracy: 0.9942 - val_loss: -6.3957 - val_accuracy: 0.9990\n",
            "Epoch 4/10\n",
            "4987/4987 [==============================] - 114s 23ms/step - loss: 0.3400 - accuracy: 0.9942 - val_loss: -6.4292 - val_accuracy: 0.9990\n",
            "Epoch 5/10\n",
            "4987/4987 [==============================] - 133s 27ms/step - loss: 0.3348 - accuracy: 0.9942 - val_loss: -6.5007 - val_accuracy: 0.9990\n",
            "Epoch 6/10\n",
            "4987/4987 [==============================] - 136s 27ms/step - loss: 0.3307 - accuracy: 0.9942 - val_loss: -6.5048 - val_accuracy: 0.9990\n",
            "Epoch 7/10\n",
            "4987/4987 [==============================] - 117s 23ms/step - loss: 0.3274 - accuracy: 0.9942 - val_loss: -6.5404 - val_accuracy: 0.9990\n",
            "Epoch 8/10\n",
            "4987/4987 [==============================] - 116s 23ms/step - loss: 0.3248 - accuracy: 0.9942 - val_loss: -6.5845 - val_accuracy: 0.9990\n",
            "Epoch 9/10\n",
            "4987/4987 [==============================] - 115s 23ms/step - loss: 0.3227 - accuracy: 0.9942 - val_loss: -6.5932 - val_accuracy: 0.9990\n",
            "Epoch 10/10\n",
            "4987/4987 [==============================] - 133s 27ms/step - loss: 0.3210 - accuracy: 0.9942 - val_loss: -6.5885 - val_accuracy: 0.9990\n",
            "4787/4787 [==============================] - 27s 6ms/step - loss: -6.5885 - accuracy: 0.9990\n"
          ],
          "name": "stdout"
        },
        {
          "output_type": "execute_result",
          "data": {
            "application/vnd.google.colaboratory.intrinsic+json": {
              "type": "string"
            },
            "text/plain": [
              "'results should be in panda dataframe in order to submit. '"
            ]
          },
          "metadata": {
            "tags": []
          },
          "execution_count": 25
        }
      ]
    },
    {
      "cell_type": "code",
      "metadata": {
        "colab": {
          "base_uri": "https://localhost:8080/"
        },
        "id": "ArO_Om5ly1f8",
        "outputId": "dd237cce-4981-479e-8a02-b42652a36ea2"
      },
      "source": [
        "model_2.save('/content/drive/MyDrive/kaggle_models/final_model')"
      ],
      "execution_count": null,
      "outputs": [
        {
          "output_type": "stream",
          "text": [
            "WARNING:absl:Found untraced functions such as lstm_cell_1_layer_call_and_return_conditional_losses, lstm_cell_1_layer_call_fn, lstm_cell_1_layer_call_fn, lstm_cell_1_layer_call_and_return_conditional_losses, lstm_cell_1_layer_call_and_return_conditional_losses while saving (showing 5 of 5). These functions will not be directly callable after loading.\n"
          ],
          "name": "stderr"
        },
        {
          "output_type": "stream",
          "text": [
            "INFO:tensorflow:Assets written to: /content/drive/MyDrive/kaggle_models/final_model/assets\n"
          ],
          "name": "stdout"
        },
        {
          "output_type": "stream",
          "text": [
            "INFO:tensorflow:Assets written to: /content/drive/MyDrive/kaggle_models/final_model/assets\n"
          ],
          "name": "stderr"
        }
      ]
    },
    {
      "cell_type": "code",
      "metadata": {
        "colab": {
          "base_uri": "https://localhost:8080/",
          "height": 419
        },
        "id": "U94xuN-R7zMe",
        "outputId": "7235982f-634d-4eb7-bb4b-ae0a9dca2681"
      },
      "source": [
        "test_labels"
      ],
      "execution_count": null,
      "outputs": [
        {
          "output_type": "execute_result",
          "data": {
            "text/html": [
              "<div>\n",
              "<style scoped>\n",
              "    .dataframe tbody tr th:only-of-type {\n",
              "        vertical-align: middle;\n",
              "    }\n",
              "\n",
              "    .dataframe tbody tr th {\n",
              "        vertical-align: top;\n",
              "    }\n",
              "\n",
              "    .dataframe thead th {\n",
              "        text-align: right;\n",
              "    }\n",
              "</style>\n",
              "<table border=\"1\" class=\"dataframe\">\n",
              "  <thead>\n",
              "    <tr style=\"text-align: right;\">\n",
              "      <th></th>\n",
              "      <th>id</th>\n",
              "      <th>toxic</th>\n",
              "      <th>severe_toxic</th>\n",
              "      <th>obscene</th>\n",
              "      <th>threat</th>\n",
              "      <th>insult</th>\n",
              "      <th>identity_hate</th>\n",
              "    </tr>\n",
              "  </thead>\n",
              "  <tbody>\n",
              "    <tr>\n",
              "      <th>0</th>\n",
              "      <td>00001cee341fdb12</td>\n",
              "      <td>-1</td>\n",
              "      <td>-1</td>\n",
              "      <td>-1</td>\n",
              "      <td>-1</td>\n",
              "      <td>-1</td>\n",
              "      <td>-1</td>\n",
              "    </tr>\n",
              "    <tr>\n",
              "      <th>1</th>\n",
              "      <td>0000247867823ef7</td>\n",
              "      <td>-1</td>\n",
              "      <td>-1</td>\n",
              "      <td>-1</td>\n",
              "      <td>-1</td>\n",
              "      <td>-1</td>\n",
              "      <td>-1</td>\n",
              "    </tr>\n",
              "    <tr>\n",
              "      <th>2</th>\n",
              "      <td>00013b17ad220c46</td>\n",
              "      <td>-1</td>\n",
              "      <td>-1</td>\n",
              "      <td>-1</td>\n",
              "      <td>-1</td>\n",
              "      <td>-1</td>\n",
              "      <td>-1</td>\n",
              "    </tr>\n",
              "    <tr>\n",
              "      <th>3</th>\n",
              "      <td>00017563c3f7919a</td>\n",
              "      <td>-1</td>\n",
              "      <td>-1</td>\n",
              "      <td>-1</td>\n",
              "      <td>-1</td>\n",
              "      <td>-1</td>\n",
              "      <td>-1</td>\n",
              "    </tr>\n",
              "    <tr>\n",
              "      <th>4</th>\n",
              "      <td>00017695ad8997eb</td>\n",
              "      <td>-1</td>\n",
              "      <td>-1</td>\n",
              "      <td>-1</td>\n",
              "      <td>-1</td>\n",
              "      <td>-1</td>\n",
              "      <td>-1</td>\n",
              "    </tr>\n",
              "    <tr>\n",
              "      <th>...</th>\n",
              "      <td>...</td>\n",
              "      <td>...</td>\n",
              "      <td>...</td>\n",
              "      <td>...</td>\n",
              "      <td>...</td>\n",
              "      <td>...</td>\n",
              "      <td>...</td>\n",
              "    </tr>\n",
              "    <tr>\n",
              "      <th>153159</th>\n",
              "      <td>fffcd0960ee309b5</td>\n",
              "      <td>-1</td>\n",
              "      <td>-1</td>\n",
              "      <td>-1</td>\n",
              "      <td>-1</td>\n",
              "      <td>-1</td>\n",
              "      <td>-1</td>\n",
              "    </tr>\n",
              "    <tr>\n",
              "      <th>153160</th>\n",
              "      <td>fffd7a9a6eb32c16</td>\n",
              "      <td>-1</td>\n",
              "      <td>-1</td>\n",
              "      <td>-1</td>\n",
              "      <td>-1</td>\n",
              "      <td>-1</td>\n",
              "      <td>-1</td>\n",
              "    </tr>\n",
              "    <tr>\n",
              "      <th>153161</th>\n",
              "      <td>fffda9e8d6fafa9e</td>\n",
              "      <td>-1</td>\n",
              "      <td>-1</td>\n",
              "      <td>-1</td>\n",
              "      <td>-1</td>\n",
              "      <td>-1</td>\n",
              "      <td>-1</td>\n",
              "    </tr>\n",
              "    <tr>\n",
              "      <th>153162</th>\n",
              "      <td>fffe8f1340a79fc2</td>\n",
              "      <td>-1</td>\n",
              "      <td>-1</td>\n",
              "      <td>-1</td>\n",
              "      <td>-1</td>\n",
              "      <td>-1</td>\n",
              "      <td>-1</td>\n",
              "    </tr>\n",
              "    <tr>\n",
              "      <th>153163</th>\n",
              "      <td>ffffce3fb183ee80</td>\n",
              "      <td>-1</td>\n",
              "      <td>-1</td>\n",
              "      <td>-1</td>\n",
              "      <td>-1</td>\n",
              "      <td>-1</td>\n",
              "      <td>-1</td>\n",
              "    </tr>\n",
              "  </tbody>\n",
              "</table>\n",
              "<p>153164 rows × 7 columns</p>\n",
              "</div>"
            ],
            "text/plain": [
              "                      id  toxic  severe_toxic  ...  threat  insult  identity_hate\n",
              "0       00001cee341fdb12     -1            -1  ...      -1      -1             -1\n",
              "1       0000247867823ef7     -1            -1  ...      -1      -1             -1\n",
              "2       00013b17ad220c46     -1            -1  ...      -1      -1             -1\n",
              "3       00017563c3f7919a     -1            -1  ...      -1      -1             -1\n",
              "4       00017695ad8997eb     -1            -1  ...      -1      -1             -1\n",
              "...                  ...    ...           ...  ...     ...     ...            ...\n",
              "153159  fffcd0960ee309b5     -1            -1  ...      -1      -1             -1\n",
              "153160  fffd7a9a6eb32c16     -1            -1  ...      -1      -1             -1\n",
              "153161  fffda9e8d6fafa9e     -1            -1  ...      -1      -1             -1\n",
              "153162  fffe8f1340a79fc2     -1            -1  ...      -1      -1             -1\n",
              "153163  ffffce3fb183ee80     -1            -1  ...      -1      -1             -1\n",
              "\n",
              "[153164 rows x 7 columns]"
            ]
          },
          "metadata": {
            "tags": []
          },
          "execution_count": 30
        }
      ]
    },
    {
      "cell_type": "code",
      "metadata": {
        "colab": {
          "base_uri": "https://localhost:8080/"
        },
        "id": "k2237nGn8duP",
        "outputId": "d6469480-afd9-426c-b3a2-a0d427c2538c"
      },
      "source": [
        "model_2_pred_probs[:10]"
      ],
      "execution_count": null,
      "outputs": [
        {
          "output_type": "execute_result",
          "data": {
            "text/plain": [
              "array([[0.3147834 , 0.09744395, 0.21387893, 0.07872009, 0.2040349 ,\n",
              "        0.09113872],\n",
              "       [0.3147834 , 0.09744395, 0.21387893, 0.07872009, 0.2040349 ,\n",
              "        0.09113872],\n",
              "       [0.3147834 , 0.09744395, 0.21387893, 0.07872009, 0.2040349 ,\n",
              "        0.09113872],\n",
              "       [0.3147834 , 0.09744395, 0.21387893, 0.07872009, 0.2040349 ,\n",
              "        0.09113872],\n",
              "       [0.3147834 , 0.09744395, 0.21387893, 0.07872009, 0.2040349 ,\n",
              "        0.09113872],\n",
              "       [0.3147834 , 0.09744395, 0.21387893, 0.07872009, 0.2040349 ,\n",
              "        0.09113872],\n",
              "       [0.3147834 , 0.09744395, 0.21387893, 0.07872009, 0.2040349 ,\n",
              "        0.09113872],\n",
              "       [0.3147834 , 0.09744395, 0.21387893, 0.07872009, 0.2040349 ,\n",
              "        0.09113872],\n",
              "       [0.3147834 , 0.09744395, 0.21387893, 0.07872009, 0.2040349 ,\n",
              "        0.09113872],\n",
              "       [0.3147834 , 0.09744395, 0.21387893, 0.07872009, 0.2040349 ,\n",
              "        0.09113872]], dtype=float32)"
            ]
          },
          "metadata": {
            "tags": []
          },
          "execution_count": 31
        }
      ]
    },
    {
      "cell_type": "code",
      "metadata": {
        "id": "IEmnQWvp7_MC"
      },
      "source": [
        "out_df = pd.DataFrame(model_2_pred_probs)"
      ],
      "execution_count": null,
      "outputs": []
    },
    {
      "cell_type": "code",
      "metadata": {
        "colab": {
          "base_uri": "https://localhost:8080/",
          "height": 204
        },
        "id": "lU8_L-Ys8gHz",
        "outputId": "9d805053-25fe-46b6-d784-8fdd51163a73"
      },
      "source": [
        "out_df.head()"
      ],
      "execution_count": null,
      "outputs": [
        {
          "output_type": "execute_result",
          "data": {
            "text/html": [
              "<div>\n",
              "<style scoped>\n",
              "    .dataframe tbody tr th:only-of-type {\n",
              "        vertical-align: middle;\n",
              "    }\n",
              "\n",
              "    .dataframe tbody tr th {\n",
              "        vertical-align: top;\n",
              "    }\n",
              "\n",
              "    .dataframe thead th {\n",
              "        text-align: right;\n",
              "    }\n",
              "</style>\n",
              "<table border=\"1\" class=\"dataframe\">\n",
              "  <thead>\n",
              "    <tr style=\"text-align: right;\">\n",
              "      <th></th>\n",
              "      <th>0</th>\n",
              "      <th>1</th>\n",
              "      <th>2</th>\n",
              "      <th>3</th>\n",
              "      <th>4</th>\n",
              "      <th>5</th>\n",
              "    </tr>\n",
              "  </thead>\n",
              "  <tbody>\n",
              "    <tr>\n",
              "      <th>0</th>\n",
              "      <td>0.314783</td>\n",
              "      <td>0.097444</td>\n",
              "      <td>0.213879</td>\n",
              "      <td>0.07872</td>\n",
              "      <td>0.204035</td>\n",
              "      <td>0.091139</td>\n",
              "    </tr>\n",
              "    <tr>\n",
              "      <th>1</th>\n",
              "      <td>0.314783</td>\n",
              "      <td>0.097444</td>\n",
              "      <td>0.213879</td>\n",
              "      <td>0.07872</td>\n",
              "      <td>0.204035</td>\n",
              "      <td>0.091139</td>\n",
              "    </tr>\n",
              "    <tr>\n",
              "      <th>2</th>\n",
              "      <td>0.314783</td>\n",
              "      <td>0.097444</td>\n",
              "      <td>0.213879</td>\n",
              "      <td>0.07872</td>\n",
              "      <td>0.204035</td>\n",
              "      <td>0.091139</td>\n",
              "    </tr>\n",
              "    <tr>\n",
              "      <th>3</th>\n",
              "      <td>0.314783</td>\n",
              "      <td>0.097444</td>\n",
              "      <td>0.213879</td>\n",
              "      <td>0.07872</td>\n",
              "      <td>0.204035</td>\n",
              "      <td>0.091139</td>\n",
              "    </tr>\n",
              "    <tr>\n",
              "      <th>4</th>\n",
              "      <td>0.314783</td>\n",
              "      <td>0.097444</td>\n",
              "      <td>0.213879</td>\n",
              "      <td>0.07872</td>\n",
              "      <td>0.204035</td>\n",
              "      <td>0.091139</td>\n",
              "    </tr>\n",
              "  </tbody>\n",
              "</table>\n",
              "</div>"
            ],
            "text/plain": [
              "          0         1         2        3         4         5\n",
              "0  0.314783  0.097444  0.213879  0.07872  0.204035  0.091139\n",
              "1  0.314783  0.097444  0.213879  0.07872  0.204035  0.091139\n",
              "2  0.314783  0.097444  0.213879  0.07872  0.204035  0.091139\n",
              "3  0.314783  0.097444  0.213879  0.07872  0.204035  0.091139\n",
              "4  0.314783  0.097444  0.213879  0.07872  0.204035  0.091139"
            ]
          },
          "metadata": {
            "tags": []
          },
          "execution_count": 33
        }
      ]
    },
    {
      "cell_type": "code",
      "metadata": {
        "colab": {
          "base_uri": "https://localhost:8080/"
        },
        "id": "TEqbaFT18nW2",
        "outputId": "baf2cac1-8a96-4a0e-d8ae-98783586c5bf"
      },
      "source": [
        "test_labels.columns"
      ],
      "execution_count": null,
      "outputs": [
        {
          "output_type": "execute_result",
          "data": {
            "text/plain": [
              "Index(['id', 'toxic', 'severe_toxic', 'obscene', 'threat', 'insult',\n",
              "       'identity_hate'],\n",
              "      dtype='object')"
            ]
          },
          "metadata": {
            "tags": []
          },
          "execution_count": 34
        }
      ]
    },
    {
      "cell_type": "code",
      "metadata": {
        "id": "VbWX0n7E8hRo"
      },
      "source": [
        "out_df.columns = [ 'toxic', 'severe_toxic', 'obscene', 'threat', 'insult',\n",
        "       'identity_hate']"
      ],
      "execution_count": null,
      "outputs": []
    },
    {
      "cell_type": "code",
      "metadata": {
        "colab": {
          "base_uri": "https://localhost:8080/",
          "height": 204
        },
        "id": "XoEcS_I68tXn",
        "outputId": "3925391f-7156-4f0a-f727-c9dd94ccc1df"
      },
      "source": [
        "out_df.head()"
      ],
      "execution_count": null,
      "outputs": [
        {
          "output_type": "execute_result",
          "data": {
            "text/html": [
              "<div>\n",
              "<style scoped>\n",
              "    .dataframe tbody tr th:only-of-type {\n",
              "        vertical-align: middle;\n",
              "    }\n",
              "\n",
              "    .dataframe tbody tr th {\n",
              "        vertical-align: top;\n",
              "    }\n",
              "\n",
              "    .dataframe thead th {\n",
              "        text-align: right;\n",
              "    }\n",
              "</style>\n",
              "<table border=\"1\" class=\"dataframe\">\n",
              "  <thead>\n",
              "    <tr style=\"text-align: right;\">\n",
              "      <th></th>\n",
              "      <th>toxic</th>\n",
              "      <th>severe_toxic</th>\n",
              "      <th>obscene</th>\n",
              "      <th>threat</th>\n",
              "      <th>insult</th>\n",
              "      <th>identity_hate</th>\n",
              "    </tr>\n",
              "  </thead>\n",
              "  <tbody>\n",
              "    <tr>\n",
              "      <th>0</th>\n",
              "      <td>0.314783</td>\n",
              "      <td>0.097444</td>\n",
              "      <td>0.213879</td>\n",
              "      <td>0.07872</td>\n",
              "      <td>0.204035</td>\n",
              "      <td>0.091139</td>\n",
              "    </tr>\n",
              "    <tr>\n",
              "      <th>1</th>\n",
              "      <td>0.314783</td>\n",
              "      <td>0.097444</td>\n",
              "      <td>0.213879</td>\n",
              "      <td>0.07872</td>\n",
              "      <td>0.204035</td>\n",
              "      <td>0.091139</td>\n",
              "    </tr>\n",
              "    <tr>\n",
              "      <th>2</th>\n",
              "      <td>0.314783</td>\n",
              "      <td>0.097444</td>\n",
              "      <td>0.213879</td>\n",
              "      <td>0.07872</td>\n",
              "      <td>0.204035</td>\n",
              "      <td>0.091139</td>\n",
              "    </tr>\n",
              "    <tr>\n",
              "      <th>3</th>\n",
              "      <td>0.314783</td>\n",
              "      <td>0.097444</td>\n",
              "      <td>0.213879</td>\n",
              "      <td>0.07872</td>\n",
              "      <td>0.204035</td>\n",
              "      <td>0.091139</td>\n",
              "    </tr>\n",
              "    <tr>\n",
              "      <th>4</th>\n",
              "      <td>0.314783</td>\n",
              "      <td>0.097444</td>\n",
              "      <td>0.213879</td>\n",
              "      <td>0.07872</td>\n",
              "      <td>0.204035</td>\n",
              "      <td>0.091139</td>\n",
              "    </tr>\n",
              "  </tbody>\n",
              "</table>\n",
              "</div>"
            ],
            "text/plain": [
              "      toxic  severe_toxic   obscene   threat    insult  identity_hate\n",
              "0  0.314783      0.097444  0.213879  0.07872  0.204035       0.091139\n",
              "1  0.314783      0.097444  0.213879  0.07872  0.204035       0.091139\n",
              "2  0.314783      0.097444  0.213879  0.07872  0.204035       0.091139\n",
              "3  0.314783      0.097444  0.213879  0.07872  0.204035       0.091139\n",
              "4  0.314783      0.097444  0.213879  0.07872  0.204035       0.091139"
            ]
          },
          "metadata": {
            "tags": []
          },
          "execution_count": 36
        }
      ]
    },
    {
      "cell_type": "code",
      "metadata": {
        "colab": {
          "base_uri": "https://localhost:8080/",
          "height": 204
        },
        "id": "THboDOra8vwT",
        "outputId": "76aed1de-243d-43a9-87c6-760ceb520006"
      },
      "source": [
        "test_labels.head()"
      ],
      "execution_count": null,
      "outputs": [
        {
          "output_type": "execute_result",
          "data": {
            "text/html": [
              "<div>\n",
              "<style scoped>\n",
              "    .dataframe tbody tr th:only-of-type {\n",
              "        vertical-align: middle;\n",
              "    }\n",
              "\n",
              "    .dataframe tbody tr th {\n",
              "        vertical-align: top;\n",
              "    }\n",
              "\n",
              "    .dataframe thead th {\n",
              "        text-align: right;\n",
              "    }\n",
              "</style>\n",
              "<table border=\"1\" class=\"dataframe\">\n",
              "  <thead>\n",
              "    <tr style=\"text-align: right;\">\n",
              "      <th></th>\n",
              "      <th>id</th>\n",
              "      <th>toxic</th>\n",
              "      <th>severe_toxic</th>\n",
              "      <th>obscene</th>\n",
              "      <th>threat</th>\n",
              "      <th>insult</th>\n",
              "      <th>identity_hate</th>\n",
              "    </tr>\n",
              "  </thead>\n",
              "  <tbody>\n",
              "    <tr>\n",
              "      <th>0</th>\n",
              "      <td>00001cee341fdb12</td>\n",
              "      <td>-1</td>\n",
              "      <td>-1</td>\n",
              "      <td>-1</td>\n",
              "      <td>-1</td>\n",
              "      <td>-1</td>\n",
              "      <td>-1</td>\n",
              "    </tr>\n",
              "    <tr>\n",
              "      <th>1</th>\n",
              "      <td>0000247867823ef7</td>\n",
              "      <td>-1</td>\n",
              "      <td>-1</td>\n",
              "      <td>-1</td>\n",
              "      <td>-1</td>\n",
              "      <td>-1</td>\n",
              "      <td>-1</td>\n",
              "    </tr>\n",
              "    <tr>\n",
              "      <th>2</th>\n",
              "      <td>00013b17ad220c46</td>\n",
              "      <td>-1</td>\n",
              "      <td>-1</td>\n",
              "      <td>-1</td>\n",
              "      <td>-1</td>\n",
              "      <td>-1</td>\n",
              "      <td>-1</td>\n",
              "    </tr>\n",
              "    <tr>\n",
              "      <th>3</th>\n",
              "      <td>00017563c3f7919a</td>\n",
              "      <td>-1</td>\n",
              "      <td>-1</td>\n",
              "      <td>-1</td>\n",
              "      <td>-1</td>\n",
              "      <td>-1</td>\n",
              "      <td>-1</td>\n",
              "    </tr>\n",
              "    <tr>\n",
              "      <th>4</th>\n",
              "      <td>00017695ad8997eb</td>\n",
              "      <td>-1</td>\n",
              "      <td>-1</td>\n",
              "      <td>-1</td>\n",
              "      <td>-1</td>\n",
              "      <td>-1</td>\n",
              "      <td>-1</td>\n",
              "    </tr>\n",
              "  </tbody>\n",
              "</table>\n",
              "</div>"
            ],
            "text/plain": [
              "                 id  toxic  severe_toxic  ...  threat  insult  identity_hate\n",
              "0  00001cee341fdb12     -1            -1  ...      -1      -1             -1\n",
              "1  0000247867823ef7     -1            -1  ...      -1      -1             -1\n",
              "2  00013b17ad220c46     -1            -1  ...      -1      -1             -1\n",
              "3  00017563c3f7919a     -1            -1  ...      -1      -1             -1\n",
              "4  00017695ad8997eb     -1            -1  ...      -1      -1             -1\n",
              "\n",
              "[5 rows x 7 columns]"
            ]
          },
          "metadata": {
            "tags": []
          },
          "execution_count": 37
        }
      ]
    },
    {
      "cell_type": "code",
      "metadata": {
        "id": "z2WLgET080Yb"
      },
      "source": [
        "out_df.insert(0,'id',test_labels['id'])"
      ],
      "execution_count": null,
      "outputs": []
    },
    {
      "cell_type": "code",
      "metadata": {
        "colab": {
          "base_uri": "https://localhost:8080/",
          "height": 419
        },
        "id": "v4TilPY19UDu",
        "outputId": "b4c73ec8-19c0-4854-b039-a4c5c4120f76"
      },
      "source": [
        "out_df"
      ],
      "execution_count": null,
      "outputs": [
        {
          "output_type": "execute_result",
          "data": {
            "text/html": [
              "<div>\n",
              "<style scoped>\n",
              "    .dataframe tbody tr th:only-of-type {\n",
              "        vertical-align: middle;\n",
              "    }\n",
              "\n",
              "    .dataframe tbody tr th {\n",
              "        vertical-align: top;\n",
              "    }\n",
              "\n",
              "    .dataframe thead th {\n",
              "        text-align: right;\n",
              "    }\n",
              "</style>\n",
              "<table border=\"1\" class=\"dataframe\">\n",
              "  <thead>\n",
              "    <tr style=\"text-align: right;\">\n",
              "      <th></th>\n",
              "      <th>id</th>\n",
              "      <th>toxic</th>\n",
              "      <th>severe_toxic</th>\n",
              "      <th>obscene</th>\n",
              "      <th>threat</th>\n",
              "      <th>insult</th>\n",
              "      <th>identity_hate</th>\n",
              "    </tr>\n",
              "  </thead>\n",
              "  <tbody>\n",
              "    <tr>\n",
              "      <th>0</th>\n",
              "      <td>00001cee341fdb12</td>\n",
              "      <td>0.314783</td>\n",
              "      <td>0.097444</td>\n",
              "      <td>0.213879</td>\n",
              "      <td>0.078720</td>\n",
              "      <td>0.204035</td>\n",
              "      <td>0.091139</td>\n",
              "    </tr>\n",
              "    <tr>\n",
              "      <th>1</th>\n",
              "      <td>0000247867823ef7</td>\n",
              "      <td>0.314783</td>\n",
              "      <td>0.097444</td>\n",
              "      <td>0.213879</td>\n",
              "      <td>0.078720</td>\n",
              "      <td>0.204035</td>\n",
              "      <td>0.091139</td>\n",
              "    </tr>\n",
              "    <tr>\n",
              "      <th>2</th>\n",
              "      <td>00013b17ad220c46</td>\n",
              "      <td>0.314783</td>\n",
              "      <td>0.097444</td>\n",
              "      <td>0.213879</td>\n",
              "      <td>0.078720</td>\n",
              "      <td>0.204035</td>\n",
              "      <td>0.091139</td>\n",
              "    </tr>\n",
              "    <tr>\n",
              "      <th>3</th>\n",
              "      <td>00017563c3f7919a</td>\n",
              "      <td>0.314783</td>\n",
              "      <td>0.097444</td>\n",
              "      <td>0.213879</td>\n",
              "      <td>0.078720</td>\n",
              "      <td>0.204035</td>\n",
              "      <td>0.091139</td>\n",
              "    </tr>\n",
              "    <tr>\n",
              "      <th>4</th>\n",
              "      <td>00017695ad8997eb</td>\n",
              "      <td>0.314783</td>\n",
              "      <td>0.097444</td>\n",
              "      <td>0.213879</td>\n",
              "      <td>0.078720</td>\n",
              "      <td>0.204035</td>\n",
              "      <td>0.091139</td>\n",
              "    </tr>\n",
              "    <tr>\n",
              "      <th>...</th>\n",
              "      <td>...</td>\n",
              "      <td>...</td>\n",
              "      <td>...</td>\n",
              "      <td>...</td>\n",
              "      <td>...</td>\n",
              "      <td>...</td>\n",
              "      <td>...</td>\n",
              "    </tr>\n",
              "    <tr>\n",
              "      <th>153159</th>\n",
              "      <td>fffcd0960ee309b5</td>\n",
              "      <td>0.314829</td>\n",
              "      <td>0.097458</td>\n",
              "      <td>0.213806</td>\n",
              "      <td>0.078712</td>\n",
              "      <td>0.204065</td>\n",
              "      <td>0.091130</td>\n",
              "    </tr>\n",
              "    <tr>\n",
              "      <th>153160</th>\n",
              "      <td>fffd7a9a6eb32c16</td>\n",
              "      <td>0.314829</td>\n",
              "      <td>0.097458</td>\n",
              "      <td>0.213806</td>\n",
              "      <td>0.078712</td>\n",
              "      <td>0.204065</td>\n",
              "      <td>0.091130</td>\n",
              "    </tr>\n",
              "    <tr>\n",
              "      <th>153161</th>\n",
              "      <td>fffda9e8d6fafa9e</td>\n",
              "      <td>0.314829</td>\n",
              "      <td>0.097458</td>\n",
              "      <td>0.213806</td>\n",
              "      <td>0.078712</td>\n",
              "      <td>0.204065</td>\n",
              "      <td>0.091130</td>\n",
              "    </tr>\n",
              "    <tr>\n",
              "      <th>153162</th>\n",
              "      <td>fffe8f1340a79fc2</td>\n",
              "      <td>0.314829</td>\n",
              "      <td>0.097458</td>\n",
              "      <td>0.213806</td>\n",
              "      <td>0.078712</td>\n",
              "      <td>0.204065</td>\n",
              "      <td>0.091130</td>\n",
              "    </tr>\n",
              "    <tr>\n",
              "      <th>153163</th>\n",
              "      <td>ffffce3fb183ee80</td>\n",
              "      <td>0.314829</td>\n",
              "      <td>0.097458</td>\n",
              "      <td>0.213806</td>\n",
              "      <td>0.078712</td>\n",
              "      <td>0.204065</td>\n",
              "      <td>0.091130</td>\n",
              "    </tr>\n",
              "  </tbody>\n",
              "</table>\n",
              "<p>153164 rows × 7 columns</p>\n",
              "</div>"
            ],
            "text/plain": [
              "                      id     toxic  ...    insult  identity_hate\n",
              "0       00001cee341fdb12  0.314783  ...  0.204035       0.091139\n",
              "1       0000247867823ef7  0.314783  ...  0.204035       0.091139\n",
              "2       00013b17ad220c46  0.314783  ...  0.204035       0.091139\n",
              "3       00017563c3f7919a  0.314783  ...  0.204035       0.091139\n",
              "4       00017695ad8997eb  0.314783  ...  0.204035       0.091139\n",
              "...                  ...       ...  ...       ...            ...\n",
              "153159  fffcd0960ee309b5  0.314829  ...  0.204065       0.091130\n",
              "153160  fffd7a9a6eb32c16  0.314829  ...  0.204065       0.091130\n",
              "153161  fffda9e8d6fafa9e  0.314829  ...  0.204065       0.091130\n",
              "153162  fffe8f1340a79fc2  0.314829  ...  0.204065       0.091130\n",
              "153163  ffffce3fb183ee80  0.314829  ...  0.204065       0.091130\n",
              "\n",
              "[153164 rows x 7 columns]"
            ]
          },
          "metadata": {
            "tags": []
          },
          "execution_count": 39
        }
      ]
    },
    {
      "cell_type": "code",
      "metadata": {
        "id": "KyXUpZNI9U4w"
      },
      "source": [
        "out_df.to_csv('predictions.csv',index = False)"
      ],
      "execution_count": null,
      "outputs": []
    },
    {
      "cell_type": "code",
      "metadata": {
        "colab": {
          "background_save": true
        },
        "id": "08LvS_p99XVn"
      },
      "source": [
        "out_df.to_csv('/content/drive/MyDrive/datasets/predictions.csv',index = False)"
      ],
      "execution_count": null,
      "outputs": []
    },
    {
      "cell_type": "code",
      "metadata": {
        "colab": {
          "background_save": true
        },
        "id": "Jy3znSNF9_7q",
        "outputId": "8a9bb487-b7b7-4ed6-f3c8-a4fc3b603eb0"
      },
      "source": [
        "pd.read_csv('/content/drive/MyDrive/datasets/predictions.csv')"
      ],
      "execution_count": null,
      "outputs": [
        {
          "output_type": "execute_result",
          "data": {
            "text/html": [
              "<div>\n",
              "<style scoped>\n",
              "    .dataframe tbody tr th:only-of-type {\n",
              "        vertical-align: middle;\n",
              "    }\n",
              "\n",
              "    .dataframe tbody tr th {\n",
              "        vertical-align: top;\n",
              "    }\n",
              "\n",
              "    .dataframe thead th {\n",
              "        text-align: right;\n",
              "    }\n",
              "</style>\n",
              "<table border=\"1\" class=\"dataframe\">\n",
              "  <thead>\n",
              "    <tr style=\"text-align: right;\">\n",
              "      <th></th>\n",
              "      <th>id</th>\n",
              "      <th>toxic</th>\n",
              "      <th>severe_toxic</th>\n",
              "      <th>obscene</th>\n",
              "      <th>threat</th>\n",
              "      <th>insult</th>\n",
              "      <th>identity_hate</th>\n",
              "    </tr>\n",
              "  </thead>\n",
              "  <tbody>\n",
              "    <tr>\n",
              "      <th>0</th>\n",
              "      <td>00001cee341fdb12</td>\n",
              "      <td>0.314783</td>\n",
              "      <td>0.097444</td>\n",
              "      <td>0.213879</td>\n",
              "      <td>0.078720</td>\n",
              "      <td>0.204035</td>\n",
              "      <td>0.091139</td>\n",
              "    </tr>\n",
              "    <tr>\n",
              "      <th>1</th>\n",
              "      <td>0000247867823ef7</td>\n",
              "      <td>0.314783</td>\n",
              "      <td>0.097444</td>\n",
              "      <td>0.213879</td>\n",
              "      <td>0.078720</td>\n",
              "      <td>0.204035</td>\n",
              "      <td>0.091139</td>\n",
              "    </tr>\n",
              "    <tr>\n",
              "      <th>2</th>\n",
              "      <td>00013b17ad220c46</td>\n",
              "      <td>0.314783</td>\n",
              "      <td>0.097444</td>\n",
              "      <td>0.213879</td>\n",
              "      <td>0.078720</td>\n",
              "      <td>0.204035</td>\n",
              "      <td>0.091139</td>\n",
              "    </tr>\n",
              "    <tr>\n",
              "      <th>3</th>\n",
              "      <td>00017563c3f7919a</td>\n",
              "      <td>0.314783</td>\n",
              "      <td>0.097444</td>\n",
              "      <td>0.213879</td>\n",
              "      <td>0.078720</td>\n",
              "      <td>0.204035</td>\n",
              "      <td>0.091139</td>\n",
              "    </tr>\n",
              "    <tr>\n",
              "      <th>4</th>\n",
              "      <td>00017695ad8997eb</td>\n",
              "      <td>0.314783</td>\n",
              "      <td>0.097444</td>\n",
              "      <td>0.213879</td>\n",
              "      <td>0.078720</td>\n",
              "      <td>0.204035</td>\n",
              "      <td>0.091139</td>\n",
              "    </tr>\n",
              "    <tr>\n",
              "      <th>...</th>\n",
              "      <td>...</td>\n",
              "      <td>...</td>\n",
              "      <td>...</td>\n",
              "      <td>...</td>\n",
              "      <td>...</td>\n",
              "      <td>...</td>\n",
              "      <td>...</td>\n",
              "    </tr>\n",
              "    <tr>\n",
              "      <th>153159</th>\n",
              "      <td>fffcd0960ee309b5</td>\n",
              "      <td>0.314829</td>\n",
              "      <td>0.097458</td>\n",
              "      <td>0.213806</td>\n",
              "      <td>0.078712</td>\n",
              "      <td>0.204065</td>\n",
              "      <td>0.091130</td>\n",
              "    </tr>\n",
              "    <tr>\n",
              "      <th>153160</th>\n",
              "      <td>fffd7a9a6eb32c16</td>\n",
              "      <td>0.314829</td>\n",
              "      <td>0.097458</td>\n",
              "      <td>0.213806</td>\n",
              "      <td>0.078712</td>\n",
              "      <td>0.204065</td>\n",
              "      <td>0.091130</td>\n",
              "    </tr>\n",
              "    <tr>\n",
              "      <th>153161</th>\n",
              "      <td>fffda9e8d6fafa9e</td>\n",
              "      <td>0.314829</td>\n",
              "      <td>0.097458</td>\n",
              "      <td>0.213806</td>\n",
              "      <td>0.078712</td>\n",
              "      <td>0.204065</td>\n",
              "      <td>0.091130</td>\n",
              "    </tr>\n",
              "    <tr>\n",
              "      <th>153162</th>\n",
              "      <td>fffe8f1340a79fc2</td>\n",
              "      <td>0.314829</td>\n",
              "      <td>0.097458</td>\n",
              "      <td>0.213806</td>\n",
              "      <td>0.078712</td>\n",
              "      <td>0.204065</td>\n",
              "      <td>0.091130</td>\n",
              "    </tr>\n",
              "    <tr>\n",
              "      <th>153163</th>\n",
              "      <td>ffffce3fb183ee80</td>\n",
              "      <td>0.314829</td>\n",
              "      <td>0.097458</td>\n",
              "      <td>0.213806</td>\n",
              "      <td>0.078712</td>\n",
              "      <td>0.204065</td>\n",
              "      <td>0.091130</td>\n",
              "    </tr>\n",
              "  </tbody>\n",
              "</table>\n",
              "<p>153164 rows × 7 columns</p>\n",
              "</div>"
            ],
            "text/plain": [
              "                      id     toxic  ...    insult  identity_hate\n",
              "0       00001cee341fdb12  0.314783  ...  0.204035       0.091139\n",
              "1       0000247867823ef7  0.314783  ...  0.204035       0.091139\n",
              "2       00013b17ad220c46  0.314783  ...  0.204035       0.091139\n",
              "3       00017563c3f7919a  0.314783  ...  0.204035       0.091139\n",
              "4       00017695ad8997eb  0.314783  ...  0.204035       0.091139\n",
              "...                  ...       ...  ...       ...            ...\n",
              "153159  fffcd0960ee309b5  0.314829  ...  0.204065       0.091130\n",
              "153160  fffd7a9a6eb32c16  0.314829  ...  0.204065       0.091130\n",
              "153161  fffda9e8d6fafa9e  0.314829  ...  0.204065       0.091130\n",
              "153162  fffe8f1340a79fc2  0.314829  ...  0.204065       0.091130\n",
              "153163  ffffce3fb183ee80  0.314829  ...  0.204065       0.091130\n",
              "\n",
              "[153164 rows x 7 columns]"
            ]
          },
          "metadata": {
            "tags": []
          },
          "execution_count": 0
        }
      ]
    },
    {
      "cell_type": "code",
      "metadata": {
        "id": "hn1oc7md-MQI"
      },
      "source": [
        ""
      ],
      "execution_count": null,
      "outputs": []
    }
  ]
}